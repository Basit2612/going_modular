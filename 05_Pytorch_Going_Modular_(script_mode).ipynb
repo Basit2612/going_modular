{
  "nbformat": 4,
  "nbformat_minor": 0,
  "metadata": {
    "colab": {
      "provenance": [],
      "authorship_tag": "ABX9TyOdhCeNQoV7/n73MIgTM1Jf",
      "include_colab_link": true
    },
    "kernelspec": {
      "name": "python3",
      "display_name": "Python 3"
    },
    "language_info": {
      "name": "python"
    },
    "widgets": {
      "application/vnd.jupyter.widget-state+json": {
        "20d62e8c4b424f7c9254b4e759367044": {
          "model_module": "@jupyter-widgets/controls",
          "model_name": "HBoxModel",
          "model_module_version": "1.5.0",
          "state": {
            "_dom_classes": [],
            "_model_module": "@jupyter-widgets/controls",
            "_model_module_version": "1.5.0",
            "_model_name": "HBoxModel",
            "_view_count": null,
            "_view_module": "@jupyter-widgets/controls",
            "_view_module_version": "1.5.0",
            "_view_name": "HBoxView",
            "box_style": "",
            "children": [
              "IPY_MODEL_3bd95c2636f941618a491f13399961c3",
              "IPY_MODEL_8ccbd47f191e4a0d922a0190163457f4",
              "IPY_MODEL_696e62cba24647158aae4fe534ff7be5"
            ],
            "layout": "IPY_MODEL_cb42e4c26ab64e15ab387af87872bc04"
          }
        },
        "3bd95c2636f941618a491f13399961c3": {
          "model_module": "@jupyter-widgets/controls",
          "model_name": "HTMLModel",
          "model_module_version": "1.5.0",
          "state": {
            "_dom_classes": [],
            "_model_module": "@jupyter-widgets/controls",
            "_model_module_version": "1.5.0",
            "_model_name": "HTMLModel",
            "_view_count": null,
            "_view_module": "@jupyter-widgets/controls",
            "_view_module_version": "1.5.0",
            "_view_name": "HTMLView",
            "description": "",
            "description_tooltip": null,
            "layout": "IPY_MODEL_9c7b850aee334785aa163d91fb950738",
            "placeholder": "​",
            "style": "IPY_MODEL_19a32a2ba3e64693afc14420cb212d98",
            "value": "100%"
          }
        },
        "8ccbd47f191e4a0d922a0190163457f4": {
          "model_module": "@jupyter-widgets/controls",
          "model_name": "FloatProgressModel",
          "model_module_version": "1.5.0",
          "state": {
            "_dom_classes": [],
            "_model_module": "@jupyter-widgets/controls",
            "_model_module_version": "1.5.0",
            "_model_name": "FloatProgressModel",
            "_view_count": null,
            "_view_module": "@jupyter-widgets/controls",
            "_view_module_version": "1.5.0",
            "_view_name": "ProgressView",
            "bar_style": "success",
            "description": "",
            "description_tooltip": null,
            "layout": "IPY_MODEL_22bd9f41adec4ec38c78526b14f367ad",
            "max": 5,
            "min": 0,
            "orientation": "horizontal",
            "style": "IPY_MODEL_580e39b2315a4143a2c496ab58259a7d",
            "value": 5
          }
        },
        "696e62cba24647158aae4fe534ff7be5": {
          "model_module": "@jupyter-widgets/controls",
          "model_name": "HTMLModel",
          "model_module_version": "1.5.0",
          "state": {
            "_dom_classes": [],
            "_model_module": "@jupyter-widgets/controls",
            "_model_module_version": "1.5.0",
            "_model_name": "HTMLModel",
            "_view_count": null,
            "_view_module": "@jupyter-widgets/controls",
            "_view_module_version": "1.5.0",
            "_view_name": "HTMLView",
            "description": "",
            "description_tooltip": null,
            "layout": "IPY_MODEL_a0e5ba6bdd604824a90bfdad780c0815",
            "placeholder": "​",
            "style": "IPY_MODEL_ea02b75140d54bc68196b897f6ac0470",
            "value": " 5/5 [00:13&lt;00:00,  2.96s/it]"
          }
        },
        "cb42e4c26ab64e15ab387af87872bc04": {
          "model_module": "@jupyter-widgets/base",
          "model_name": "LayoutModel",
          "model_module_version": "1.2.0",
          "state": {
            "_model_module": "@jupyter-widgets/base",
            "_model_module_version": "1.2.0",
            "_model_name": "LayoutModel",
            "_view_count": null,
            "_view_module": "@jupyter-widgets/base",
            "_view_module_version": "1.2.0",
            "_view_name": "LayoutView",
            "align_content": null,
            "align_items": null,
            "align_self": null,
            "border": null,
            "bottom": null,
            "display": null,
            "flex": null,
            "flex_flow": null,
            "grid_area": null,
            "grid_auto_columns": null,
            "grid_auto_flow": null,
            "grid_auto_rows": null,
            "grid_column": null,
            "grid_gap": null,
            "grid_row": null,
            "grid_template_areas": null,
            "grid_template_columns": null,
            "grid_template_rows": null,
            "height": null,
            "justify_content": null,
            "justify_items": null,
            "left": null,
            "margin": null,
            "max_height": null,
            "max_width": null,
            "min_height": null,
            "min_width": null,
            "object_fit": null,
            "object_position": null,
            "order": null,
            "overflow": null,
            "overflow_x": null,
            "overflow_y": null,
            "padding": null,
            "right": null,
            "top": null,
            "visibility": null,
            "width": null
          }
        },
        "9c7b850aee334785aa163d91fb950738": {
          "model_module": "@jupyter-widgets/base",
          "model_name": "LayoutModel",
          "model_module_version": "1.2.0",
          "state": {
            "_model_module": "@jupyter-widgets/base",
            "_model_module_version": "1.2.0",
            "_model_name": "LayoutModel",
            "_view_count": null,
            "_view_module": "@jupyter-widgets/base",
            "_view_module_version": "1.2.0",
            "_view_name": "LayoutView",
            "align_content": null,
            "align_items": null,
            "align_self": null,
            "border": null,
            "bottom": null,
            "display": null,
            "flex": null,
            "flex_flow": null,
            "grid_area": null,
            "grid_auto_columns": null,
            "grid_auto_flow": null,
            "grid_auto_rows": null,
            "grid_column": null,
            "grid_gap": null,
            "grid_row": null,
            "grid_template_areas": null,
            "grid_template_columns": null,
            "grid_template_rows": null,
            "height": null,
            "justify_content": null,
            "justify_items": null,
            "left": null,
            "margin": null,
            "max_height": null,
            "max_width": null,
            "min_height": null,
            "min_width": null,
            "object_fit": null,
            "object_position": null,
            "order": null,
            "overflow": null,
            "overflow_x": null,
            "overflow_y": null,
            "padding": null,
            "right": null,
            "top": null,
            "visibility": null,
            "width": null
          }
        },
        "19a32a2ba3e64693afc14420cb212d98": {
          "model_module": "@jupyter-widgets/controls",
          "model_name": "DescriptionStyleModel",
          "model_module_version": "1.5.0",
          "state": {
            "_model_module": "@jupyter-widgets/controls",
            "_model_module_version": "1.5.0",
            "_model_name": "DescriptionStyleModel",
            "_view_count": null,
            "_view_module": "@jupyter-widgets/base",
            "_view_module_version": "1.2.0",
            "_view_name": "StyleView",
            "description_width": ""
          }
        },
        "22bd9f41adec4ec38c78526b14f367ad": {
          "model_module": "@jupyter-widgets/base",
          "model_name": "LayoutModel",
          "model_module_version": "1.2.0",
          "state": {
            "_model_module": "@jupyter-widgets/base",
            "_model_module_version": "1.2.0",
            "_model_name": "LayoutModel",
            "_view_count": null,
            "_view_module": "@jupyter-widgets/base",
            "_view_module_version": "1.2.0",
            "_view_name": "LayoutView",
            "align_content": null,
            "align_items": null,
            "align_self": null,
            "border": null,
            "bottom": null,
            "display": null,
            "flex": null,
            "flex_flow": null,
            "grid_area": null,
            "grid_auto_columns": null,
            "grid_auto_flow": null,
            "grid_auto_rows": null,
            "grid_column": null,
            "grid_gap": null,
            "grid_row": null,
            "grid_template_areas": null,
            "grid_template_columns": null,
            "grid_template_rows": null,
            "height": null,
            "justify_content": null,
            "justify_items": null,
            "left": null,
            "margin": null,
            "max_height": null,
            "max_width": null,
            "min_height": null,
            "min_width": null,
            "object_fit": null,
            "object_position": null,
            "order": null,
            "overflow": null,
            "overflow_x": null,
            "overflow_y": null,
            "padding": null,
            "right": null,
            "top": null,
            "visibility": null,
            "width": null
          }
        },
        "580e39b2315a4143a2c496ab58259a7d": {
          "model_module": "@jupyter-widgets/controls",
          "model_name": "ProgressStyleModel",
          "model_module_version": "1.5.0",
          "state": {
            "_model_module": "@jupyter-widgets/controls",
            "_model_module_version": "1.5.0",
            "_model_name": "ProgressStyleModel",
            "_view_count": null,
            "_view_module": "@jupyter-widgets/base",
            "_view_module_version": "1.2.0",
            "_view_name": "StyleView",
            "bar_color": null,
            "description_width": ""
          }
        },
        "a0e5ba6bdd604824a90bfdad780c0815": {
          "model_module": "@jupyter-widgets/base",
          "model_name": "LayoutModel",
          "model_module_version": "1.2.0",
          "state": {
            "_model_module": "@jupyter-widgets/base",
            "_model_module_version": "1.2.0",
            "_model_name": "LayoutModel",
            "_view_count": null,
            "_view_module": "@jupyter-widgets/base",
            "_view_module_version": "1.2.0",
            "_view_name": "LayoutView",
            "align_content": null,
            "align_items": null,
            "align_self": null,
            "border": null,
            "bottom": null,
            "display": null,
            "flex": null,
            "flex_flow": null,
            "grid_area": null,
            "grid_auto_columns": null,
            "grid_auto_flow": null,
            "grid_auto_rows": null,
            "grid_column": null,
            "grid_gap": null,
            "grid_row": null,
            "grid_template_areas": null,
            "grid_template_columns": null,
            "grid_template_rows": null,
            "height": null,
            "justify_content": null,
            "justify_items": null,
            "left": null,
            "margin": null,
            "max_height": null,
            "max_width": null,
            "min_height": null,
            "min_width": null,
            "object_fit": null,
            "object_position": null,
            "order": null,
            "overflow": null,
            "overflow_x": null,
            "overflow_y": null,
            "padding": null,
            "right": null,
            "top": null,
            "visibility": null,
            "width": null
          }
        },
        "ea02b75140d54bc68196b897f6ac0470": {
          "model_module": "@jupyter-widgets/controls",
          "model_name": "DescriptionStyleModel",
          "model_module_version": "1.5.0",
          "state": {
            "_model_module": "@jupyter-widgets/controls",
            "_model_module_version": "1.5.0",
            "_model_name": "DescriptionStyleModel",
            "_view_count": null,
            "_view_module": "@jupyter-widgets/base",
            "_view_module_version": "1.2.0",
            "_view_name": "StyleView",
            "description_width": ""
          }
        }
      }
    }
  },
  "cells": [
    {
      "cell_type": "markdown",
      "metadata": {
        "id": "view-in-github",
        "colab_type": "text"
      },
      "source": [
        "<a href=\"https://colab.research.google.com/github/Basit2612/going_modular/blob/main/05_Pytorch_Going_Modular_(script_mode).ipynb\" target=\"_parent\"><img src=\"https://colab.research.google.com/assets/colab-badge.svg\" alt=\"Open In Colab\"/></a>"
      ]
    },
    {
      "cell_type": "code",
      "execution_count": 1,
      "metadata": {
        "id": "AZEjfcvtQ9f8"
      },
      "outputs": [],
      "source": [
        "import os\n",
        "os.makedirs(\"going_modular\", exist_ok =True)"
      ]
    },
    {
      "cell_type": "code",
      "source": [
        "from google.colab import drive\n",
        "drive.mount('/content/drive')"
      ],
      "metadata": {
        "colab": {
          "base_uri": "https://localhost:8080/"
        },
        "id": "18i6061zzu0y",
        "outputId": "6cac5691-7eff-492f-b624-b4aa704c3c0f"
      },
      "execution_count": 2,
      "outputs": [
        {
          "output_type": "stream",
          "name": "stdout",
          "text": [
            "Mounted at /content/drive\n"
          ]
        }
      ]
    },
    {
      "cell_type": "markdown",
      "source": [
        "# 1. Get data"
      ],
      "metadata": {
        "id": "RZZKYTBmUVCd"
      }
    },
    {
      "cell_type": "code",
      "source": [
        "%%writefile going_modular/get_data.py\n",
        "import os\n",
        "import zipfile\n",
        "import requests\n",
        "from pathlib import Path\n",
        "\n",
        "data_path = Path(\"data\")\n",
        "image_path = data_path / \"pizza_steak_sushi\"\n",
        "\n",
        "if image_path.is_dir():\n",
        "  print(\"Data is already availble\")\n",
        "else:\n",
        "  print(\"Data is downloading...\")\n",
        "  image_path.mkdir(parents=True, exist_ok = True)\n",
        "\n",
        "with open(data_path / \"pizza_steak_sushi.zip\", \"wb\") as f:\n",
        "  request = requests.get(\"https://github.com/mrdbourke/pytorch-deep-learning/raw/main/data/pizza_steak_sushi.zip\")\n",
        "  f.write(request.content)\n",
        "\n",
        "with zipfile.ZipFile(data_path / \"pizza_steak_sushi.zip\", \"r\") as zip_ref:\n",
        "  zip_ref.extractall(image_path)\n",
        "\n",
        "os.remove(data_path / \"pizza_steak_sushi.zip\")"
      ],
      "metadata": {
        "colab": {
          "base_uri": "https://localhost:8080/"
        },
        "id": "A8NiCI4oUY_j",
        "outputId": "7fa26b00-e0d2-4ae9-8aed-01c5506080c3"
      },
      "execution_count": 3,
      "outputs": [
        {
          "output_type": "stream",
          "name": "stdout",
          "text": [
            "Writing going_modular/get_data.py\n"
          ]
        }
      ]
    },
    {
      "cell_type": "code",
      "source": [
        "from going_modular import get_data\n",
        "train_dir = get_data.image_path / \"train\"\n",
        "test_dir = get_data.image_path / \"test\"\n",
        "\n",
        "train_dir, test_dir"
      ],
      "metadata": {
        "id": "61TZkOjnUlax",
        "colab": {
          "base_uri": "https://localhost:8080/"
        },
        "outputId": "58c2e1cc-bfaf-468e-fa19-996f4287a283"
      },
      "execution_count": 4,
      "outputs": [
        {
          "output_type": "stream",
          "name": "stdout",
          "text": [
            "Data is downloading...\n"
          ]
        },
        {
          "output_type": "execute_result",
          "data": {
            "text/plain": [
              "(PosixPath('data/pizza_steak_sushi/train'),\n",
              " PosixPath('data/pizza_steak_sushi/test'))"
            ]
          },
          "metadata": {},
          "execution_count": 4
        }
      ]
    },
    {
      "cell_type": "markdown",
      "source": [
        "# Dataset and Dataloader"
      ],
      "metadata": {
        "id": "rHQrfPlcYl1r"
      }
    },
    {
      "cell_type": "code",
      "source": [
        "%%writefile going_modular/data_setup.py\n",
        "\n",
        "from torchvision import transforms\n",
        "data_transforms = transforms.Compose([\n",
        "    transforms.Resize(size=(64, 64)),\n",
        "    transforms.ToTensor()\n",
        "])\n",
        "\n",
        "import os\n",
        "from torchvision import datasets, transforms\n",
        "from torch.utils.data import DataLoader\n",
        "\n",
        "def create_dataloaders(train_dir: str,\n",
        "                       test_dir: str,\n",
        "                       data_transforms:transforms.Compose,\n",
        "                       batch_size: int,\n",
        "                       num_workers: int = os.cpu_count()):\n",
        "\n",
        "    train_data = datasets.ImageFolder(root=train_dir,\n",
        "                                      transform = data_transforms,\n",
        "                                      target_transform=None)\n",
        "\n",
        "    test_data = datasets.ImageFolder(root = test_dir,\n",
        "                                     transform= data_transforms,\n",
        "                                     target_transform=None)\n",
        "\n",
        "    train_dataloader = DataLoader(dataset= train_data,\n",
        "                                  batch_size=batch_size,\n",
        "                                  shuffle=True,\n",
        "                                  num_workers=num_workers,\n",
        "                                  pin_memory=True)\n",
        "\n",
        "    test_dataloader = DataLoader(dataset = test_data,\n",
        "                                 batch_size= batch_size,\n",
        "                                 shuffle=False,\n",
        "                                 num_workers=num_workers,\n",
        "                                 pin_memory=True)\n",
        "\n",
        "    return train_data, test_data, train_dataloader, test_dataloader"
      ],
      "metadata": {
        "colab": {
          "base_uri": "https://localhost:8080/"
        },
        "id": "ZIw9X2Sl9gIC",
        "outputId": "f2d0947f-614a-4b35-d5d5-530204ccd1ca"
      },
      "execution_count": 5,
      "outputs": [
        {
          "output_type": "stream",
          "name": "stdout",
          "text": [
            "Writing going_modular/data_setup.py\n"
          ]
        }
      ]
    },
    {
      "cell_type": "code",
      "source": [
        "from going_modular import data_setup\n",
        "train_data, test_data, train_dataloader, test_dataloader = data_setup.create_dataloaders(train_dir=train_dir,\n",
        "                                                                              test_dir=test_dir,\n",
        "                                                                              data_transforms= data_setup.data_transforms,\n",
        "                                                                              batch_size = 32,\n",
        "                                                                              num_workers = os.cpu_count())\n",
        "train_data, test_data, train_dataloader, test_dataloader"
      ],
      "metadata": {
        "colab": {
          "base_uri": "https://localhost:8080/"
        },
        "id": "8Ha14WcCn6oO",
        "outputId": "a6eaeff9-e894-4ae4-a229-6b200275a366"
      },
      "execution_count": 6,
      "outputs": [
        {
          "output_type": "execute_result",
          "data": {
            "text/plain": [
              "(Dataset ImageFolder\n",
              "     Number of datapoints: 225\n",
              "     Root location: data/pizza_steak_sushi/train\n",
              "     StandardTransform\n",
              " Transform: Compose(\n",
              "                Resize(size=(64, 64), interpolation=bilinear, max_size=None, antialias=True)\n",
              "                ToTensor()\n",
              "            ),\n",
              " Dataset ImageFolder\n",
              "     Number of datapoints: 75\n",
              "     Root location: data/pizza_steak_sushi/test\n",
              "     StandardTransform\n",
              " Transform: Compose(\n",
              "                Resize(size=(64, 64), interpolation=bilinear, max_size=None, antialias=True)\n",
              "                ToTensor()\n",
              "            ),\n",
              " <torch.utils.data.dataloader.DataLoader at 0x7a0996782770>,\n",
              " <torch.utils.data.dataloader.DataLoader at 0x7a08d40b64a0>)"
            ]
          },
          "metadata": {},
          "execution_count": 6
        }
      ]
    },
    {
      "cell_type": "code",
      "source": [
        "image, label = next(iter(train_dataloader))\n",
        "image.shape, label.shape"
      ],
      "metadata": {
        "id": "Ed-awyBDaoyK",
        "colab": {
          "base_uri": "https://localhost:8080/"
        },
        "outputId": "ca27496a-f584-4ed1-fc33-a4159ca0261e"
      },
      "execution_count": 7,
      "outputs": [
        {
          "output_type": "execute_result",
          "data": {
            "text/plain": [
              "(torch.Size([32, 3, 64, 64]), torch.Size([32]))"
            ]
          },
          "metadata": {},
          "execution_count": 7
        }
      ]
    },
    {
      "cell_type": "code",
      "source": [
        "image_single, label_single = image[0].unsqueeze(dim=0), label[0]\n",
        "image_single.shape, label_single.shape"
      ],
      "metadata": {
        "colab": {
          "base_uri": "https://localhost:8080/"
        },
        "id": "tF5MNvec-rlP",
        "outputId": "f0cebe2c-7175-41c6-ddbf-dbdb4bb761ea"
      },
      "execution_count": 8,
      "outputs": [
        {
          "output_type": "execute_result",
          "data": {
            "text/plain": [
              "(torch.Size([1, 3, 64, 64]), torch.Size([]))"
            ]
          },
          "metadata": {},
          "execution_count": 8
        }
      ]
    },
    {
      "cell_type": "code",
      "source": [
        "class_names = train_data.classes\n",
        "class_names"
      ],
      "metadata": {
        "id": "6KHVPwDla7ll",
        "colab": {
          "base_uri": "https://localhost:8080/"
        },
        "outputId": "36175335-6145-4ab5-b80c-bd046880f32b"
      },
      "execution_count": 9,
      "outputs": [
        {
          "output_type": "execute_result",
          "data": {
            "text/plain": [
              "['pizza', 'steak', 'sushi']"
            ]
          },
          "metadata": {},
          "execution_count": 9
        }
      ]
    },
    {
      "cell_type": "code",
      "source": [
        "class_to_idx = train_data.class_to_idx\n",
        "class_to_idx"
      ],
      "metadata": {
        "id": "YBhS_6P3bLWb",
        "colab": {
          "base_uri": "https://localhost:8080/"
        },
        "outputId": "5baf4a4f-e2d4-4d96-c0db-589e77f6a1f8"
      },
      "execution_count": 10,
      "outputs": [
        {
          "output_type": "execute_result",
          "data": {
            "text/plain": [
              "{'pizza': 0, 'steak': 1, 'sushi': 2}"
            ]
          },
          "metadata": {},
          "execution_count": 10
        }
      ]
    },
    {
      "cell_type": "markdown",
      "source": [
        "# Making a Model (TinyVGG)"
      ],
      "metadata": {
        "id": "xyGD4t4rbfjE"
      }
    },
    {
      "cell_type": "code",
      "source": [
        "%%writefile going_modular/model_builder.py\n",
        "import torch\n",
        "from torch import nn\n",
        "class TinyVGGModel(nn.Module):\n",
        "  def __init__(self, input_shape, hidden_units, output_shape):\n",
        "    super().__init__()\n",
        "    self.conv_block_1 = nn.Sequential(\n",
        "        nn.Conv2d(in_channels=input_shape,\n",
        "                  out_channels=hidden_units,\n",
        "                  kernel_size=3,\n",
        "                  stride=1,\n",
        "                  padding=0),\n",
        "        nn.ReLU(),\n",
        "\n",
        "        nn.Conv2d(in_channels=hidden_units,\n",
        "                  out_channels=hidden_units,\n",
        "                  kernel_size=3,\n",
        "                  stride=1,\n",
        "                  padding=0),\n",
        "        nn.ReLU(),\n",
        "        nn.MaxPool2d(kernel_size=2,\n",
        "                     stride=2)\n",
        "    )\n",
        "    self.conv_block_2 = nn.Sequential(\n",
        "        nn.Conv2d(in_channels=hidden_units,\n",
        "                  out_channels=hidden_units,\n",
        "                  kernel_size=3,\n",
        "                  padding=0),\n",
        "        nn.ReLU(),\n",
        "        nn.Conv2d(in_channels=hidden_units,\n",
        "                  out_channels=hidden_units,\n",
        "                  kernel_size=3,\n",
        "                  padding=0),\n",
        "        nn.ReLU(),\n",
        "        nn.MaxPool2d(2)\n",
        "    )\n",
        "    self.classifier = nn.Sequential(\n",
        "        nn.Flatten(),\n",
        "        nn.Linear(in_features=hidden_units*13*13,\n",
        "                  out_features=output_shape)\n",
        "    )\n",
        "\n",
        "  def forward(self, x):\n",
        "    x = self.conv_block_1(x)\n",
        "    # print(x.shape)\n",
        "    x = self.conv_block_2(x)\n",
        "    # print(x.shape)\n",
        "    x = self.classifier(x)\n",
        "    # print(x.shape)\n",
        "    return x"
      ],
      "metadata": {
        "id": "OQykxkR7blzv",
        "colab": {
          "base_uri": "https://localhost:8080/"
        },
        "outputId": "fb74c834-188b-4173-bfd1-f61d0f92824a"
      },
      "execution_count": 11,
      "outputs": [
        {
          "output_type": "stream",
          "name": "stdout",
          "text": [
            "Writing going_modular/model_builder.py\n"
          ]
        }
      ]
    },
    {
      "cell_type": "markdown",
      "source": [
        "# Creating Train Step & Test Step"
      ],
      "metadata": {
        "id": "Ev8tl2C9o4E0"
      }
    },
    {
      "cell_type": "code",
      "source": [
        "%%writefile going_modular/engine.py\n",
        "import torch\n",
        "from torch import nn\n",
        "from typing import Tuple\n",
        "from typing import Dict, List\n",
        "from tqdm.auto import tqdm\n",
        "device = \"cuda\" if torch.cuda.is_available() else \"cpu\"\n",
        "\n",
        "\n",
        "def train_step(model: torch.nn.Module,\n",
        "               train_dataloader: torch.utils.data.DataLoader,\n",
        "               optimizer: torch.optim.Optimizer,\n",
        "               loss_fn: torch.nn.Module,\n",
        "               device = device\n",
        "               ) -> Tuple[float, float]:\n",
        "\n",
        "  from sklearn.metrics import accuracy_score\n",
        "  train_loss, train_acc= 0, 0\n",
        "  model.to(device)\n",
        "  model.train()\n",
        "\n",
        "  for batch, (X, y) in enumerate(train_dataloader):\n",
        "    X, y = X.to(device), y.to(device)\n",
        "\n",
        "    # 1. Forward Pass\n",
        "    y_logits = model(X)\n",
        "    y_pred_probs = torch.argmax(torch.softmax(y_logits, dim=1), dim=1)\n",
        "\n",
        "    # 2. Calculate the Loss\n",
        "    loss = loss_fn(y_logits, y)\n",
        "    train_loss += loss.item()\n",
        "\n",
        "    train_acc += accuracy_score(y, y_pred_probs)\n",
        "\n",
        "    # 3. Optimizer zero grad\n",
        "    optimizer.zero_grad()\n",
        "\n",
        "    # 4. Loss backward\n",
        "    loss.backward()\n",
        "\n",
        "    # 5. Optimizer Step\n",
        "    optimizer.step()\n",
        "\n",
        "  train_loss /= len(train_dataloader)\n",
        "  train_acc /= len(train_dataloader)\n",
        "\n",
        "  return train_loss, train_acc\n",
        "\n",
        "\n",
        "def test_step(model: torch.nn.Module,\n",
        "              dataloader: torch.utils.data.DataLoader,\n",
        "              optimizer: torch.optim.Optimizer,\n",
        "              loss_fn: torch.nn.Module,\n",
        "              device = device) -> Tuple[float, float]:\n",
        "\n",
        "  from sklearn.metrics import accuracy_score\n",
        "  model.eval()\n",
        "  test_loss, test_acc =0, 0\n",
        "  with torch.inference_mode():\n",
        "    for batch, (X, y) in enumerate(dataloader):\n",
        "      X, y = X.to(device), y.to(device)\n",
        "      # 1. Forward Pass\n",
        "      test_pred = model(X)\n",
        "      test_pred_probs = torch.argmax(torch.softmax(test_pred, dim=1), dim=1)\n",
        "\n",
        "      # 2. Calculate Loss\n",
        "      loss = loss_fn(test_pred, y)\n",
        "      test_loss += loss.item()\n",
        "      test_acc += accuracy_score(y, test_pred_probs)\n",
        "\n",
        "    test_loss /= len(dataloader)\n",
        "    test_acc /= len(dataloader)\n",
        "\n",
        "    return test_loss, test_acc\n",
        "\n",
        "\n",
        "def train(model:torch.nn.Module,\n",
        "          train_dataloader: torch.utils.data.DataLoader,\n",
        "          test_dataloader: torch.utils.data.DataLoader,\n",
        "          loss_fn: torch.nn.Module,\n",
        "          optimizer: torch.optim.Optimizer,\n",
        "          epochs: int,\n",
        "          device=device) -> Dict[str, List[float]]:\n",
        "\n",
        "  results={\"Train Loss\": [],\n",
        "           \"Train Accuracy\": [],\n",
        "           \"Test Loss\": [],\n",
        "           \"Test Accuracy\": []}\n",
        "\n",
        "  for epoch in tqdm(range(epochs)):\n",
        "    train_loss, train_acc = train_step(model=model,\n",
        "                                       train_dataloader=train_dataloader,\n",
        "                                       optimizer=optimizer,\n",
        "                                       loss_fn=loss_fn,\n",
        "                                       device=device)\n",
        "\n",
        "    test_loss, test_acc = test_step(model=model,\n",
        "                                    dataloader=test_dataloader,\n",
        "                                    optimizer=optimizer,\n",
        "                                    loss_fn=loss_fn,\n",
        "                                    device=device)\n",
        "\n",
        "    # Print out what's happening\n",
        "    print(f\"Epochs = {epoch} | Train Loss {train_loss:.4f}\\tTrain Accuracy {train_acc:.4f} | Test Loss {test_loss:.4f}\\tTest Accuracy {test_acc:.4f}\")\n",
        "    results[\"Train Loss\"].append(train_loss)\n",
        "    results[\"Train Accuracy\"].append(train_acc)\n",
        "    results[\"Test Loss\"].append(test_loss)\n",
        "    results[\"Test Accuracy\"].append(test_acc)\n",
        "\n",
        "  return results"
      ],
      "metadata": {
        "id": "Xjn6zHvoJV2i",
        "colab": {
          "base_uri": "https://localhost:8080/"
        },
        "outputId": "eff874bc-4489-4fc6-8f50-b8431f0e0d2d"
      },
      "execution_count": 12,
      "outputs": [
        {
          "output_type": "stream",
          "name": "stdout",
          "text": [
            "Writing going_modular/engine.py\n"
          ]
        }
      ]
    },
    {
      "cell_type": "markdown",
      "source": [
        "# Save Model"
      ],
      "metadata": {
        "id": "MZ4MPbs4rRvx"
      }
    },
    {
      "cell_type": "code",
      "source": [
        "%%writefile going_modular/utils.py\n",
        "from pathlib import Path\n",
        "import torch\n",
        "\n",
        "def save_model(model: torch.nn.Module,\n",
        "               target_dir: str,\n",
        "               model_name: str):\n",
        "\n",
        "  target_dir_path = Path(target_dir)\n",
        "  target_dir_path.mkdir(parents=True, exist_ok=True)\n",
        "\n",
        "  assert model_name.endswith(\".pth\") or model_name.endswith(\".pt\")\n",
        "  model_save_path = target_dir_path/model_name\n",
        "\n",
        "  print(f\"[INFO] Saving model to: {model_save_path}\")\n",
        "  torch.save(obj=model.state_dict(),\n",
        "             f=model_save_path)"
      ],
      "metadata": {
        "id": "TWMTY2NAnZJv",
        "colab": {
          "base_uri": "https://localhost:8080/"
        },
        "outputId": "f6efa3a2-a247-48e2-9e9a-bb996eb87fb2"
      },
      "execution_count": 13,
      "outputs": [
        {
          "output_type": "stream",
          "name": "stdout",
          "text": [
            "Writing going_modular/utils.py\n"
          ]
        }
      ]
    },
    {
      "cell_type": "markdown",
      "source": [
        "# Train & Evaluate the Model"
      ],
      "metadata": {
        "id": "SA7YLsE_rVJ4"
      }
    },
    {
      "cell_type": "code",
      "source": [
        "import torch\n",
        "from torch import nn\n",
        "torch.manual_seed(42)\n",
        "torch.cuda.manual_seed(42)\n",
        "device = \"cuda\" if torch.cuda.is_available() else \"cpu\"\n",
        "\n",
        "NUM_EPOCHS = 5\n",
        "BATCH_SIZE = 32\n",
        "HIDDEN_UNITS = 10\n",
        "LEARNING_RATE = 0.001\n",
        "\n",
        "from going_modular import get_data, data_setup, model_builder, engine, utils\n",
        "\n",
        "# Get Data\n",
        "train_dir = get_data.image_path / \"train\"\n",
        "test_dir = get_data.image_path / \"test\"\n",
        "\n",
        "# Data Setup\n",
        "train_data, test_data, train_dataloader, test_dataloader = data_setup.create_dataloaders(train_dir= train_dir,\n",
        "                                                                              test_dir=test_dir,\n",
        "                                                                              data_transforms= data_setup.data_transforms,\n",
        "                                                                              batch_size = BATCH_SIZE,\n",
        "                                                                              num_workers = os.cpu_count())\n",
        "\n",
        "# Model Setup\n",
        "model_0 = model_builder.TinyVGGModel(input_shape=3,\n",
        "                                     hidden_units=HIDDEN_UNITS,\n",
        "                                     output_shape=len(train_data.classes)).to(device)\n",
        "\n",
        "# Loss and Optimizer Setup\n",
        "loss_fn = nn.CrossEntropyLoss()\n",
        "optimizer = torch.optim.Adam(params=model_0.parameters(),\n",
        "                             lr=LEARNING_RATE)\n",
        "\n",
        "# Engine\n",
        "results = engine.train(model=model_0,\n",
        "                       train_dataloader=train_dataloader,\n",
        "                       test_dataloader=test_dataloader,\n",
        "                       loss_fn=loss_fn,\n",
        "                       optimizer=optimizer,\n",
        "                       epochs=NUM_EPOCHS,\n",
        "                       device=device)\n",
        "results\n",
        "\n",
        "# Utils\n",
        "utils.save_model(model=model_0,\n",
        "                 target_dir= \"models\",\n",
        "                 model_name=\"05_going_modular_script_model.pth\")"
      ],
      "metadata": {
        "colab": {
          "base_uri": "https://localhost:8080/",
          "height": 153,
          "referenced_widgets": [
            "20d62e8c4b424f7c9254b4e759367044",
            "3bd95c2636f941618a491f13399961c3",
            "8ccbd47f191e4a0d922a0190163457f4",
            "696e62cba24647158aae4fe534ff7be5",
            "cb42e4c26ab64e15ab387af87872bc04",
            "9c7b850aee334785aa163d91fb950738",
            "19a32a2ba3e64693afc14420cb212d98",
            "22bd9f41adec4ec38c78526b14f367ad",
            "580e39b2315a4143a2c496ab58259a7d",
            "a0e5ba6bdd604824a90bfdad780c0815",
            "ea02b75140d54bc68196b897f6ac0470"
          ]
        },
        "id": "G1Q79ctMrZl-",
        "outputId": "a48499c9-aaaf-466f-a2ff-03889130af78"
      },
      "execution_count": 14,
      "outputs": [
        {
          "output_type": "display_data",
          "data": {
            "text/plain": [
              "  0%|          | 0/5 [00:00<?, ?it/s]"
            ],
            "application/vnd.jupyter.widget-view+json": {
              "version_major": 2,
              "version_minor": 0,
              "model_id": "20d62e8c4b424f7c9254b4e759367044"
            }
          },
          "metadata": {}
        },
        {
          "output_type": "stream",
          "name": "stdout",
          "text": [
            "Epochs = 0 | Train Loss 1.1063\tTrain Accuracy 0.3047 | Test Loss 1.0983\tTest Accuracy 0.3011\n",
            "Epochs = 1 | Train Loss 1.0998\tTrain Accuracy 0.3281 | Test Loss 1.0697\tTest Accuracy 0.5417\n",
            "Epochs = 2 | Train Loss 1.0869\tTrain Accuracy 0.4883 | Test Loss 1.0808\tTest Accuracy 0.4924\n",
            "Epochs = 3 | Train Loss 1.0842\tTrain Accuracy 0.3984 | Test Loss 1.0608\tTest Accuracy 0.5833\n",
            "Epochs = 4 | Train Loss 1.0662\tTrain Accuracy 0.4141 | Test Loss 1.0654\tTest Accuracy 0.5644\n",
            "[INFO] Saving model to: models/05_going_modular_script_model.pth\n"
          ]
        }
      ]
    }
  ]
}